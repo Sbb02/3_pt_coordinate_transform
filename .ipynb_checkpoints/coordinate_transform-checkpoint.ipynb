{
 "cells": [
  {
   "cell_type": "code",
   "execution_count": 12,
   "id": "0c4dfb5d-02b8-4c87-8dec-6429c6753059",
   "metadata": {},
   "outputs": [
    {
     "name": "stdout",
     "output_type": "stream",
     "text": [
      "Requirement already satisfied: numpy in c:\\users\\sberdia\\appdata\\local\\packages\\pythonsoftwarefoundation.python.3.10_qbz5n2kfra8p0\\localcache\\local-packages\\python310\\site-packages (1.25.2)\n",
      "Requirement already satisfied: scipy in c:\\users\\sberdia\\appdata\\local\\packages\\pythonsoftwarefoundation.python.3.10_qbz5n2kfra8p0\\localcache\\local-packages\\python310\\site-packages (1.11.1)\n",
      "Requirement already satisfied: numpy<1.28.0,>=1.21.6 in c:\\users\\sberdia\\appdata\\local\\packages\\pythonsoftwarefoundation.python.3.10_qbz5n2kfra8p0\\localcache\\local-packages\\python310\\site-packages (from scipy) (1.25.2)\n",
      "OK\n"
     ]
    }
   ],
   "source": [
    "!pip install numpy\n",
    "!pip install scipy\n",
    "\n",
    "import numpy as np\n",
    "import math\n",
    "import random\n",
    "from scipy.optimize import minimize\n",
    "\n",
    "def fun(args):\n",
    "    x_input, y_input, target_x, target_y = args[0], args[1], args[2], args[3]\n",
    "    count = len(x_input)\n",
    "    v = lambda x: sum([(x[0] * x_input[i] + x[1] * y_input[i] + x[2] - target_x[i]) ** 2 + (\n",
    "            x[3] * x_input[i] + x[4] * y_input[i] + x[5] - target_y[i]) ** 2 for i in range(count)])\n",
    "    return v\n",
    "\n",
    "\n",
    "def trans(file_path=r\".\\node_coord_check.csv\"):\n",
    "    rec_coord = dict()\n",
    "    rec_gps = dict()\n",
    "    with open(file_path, 'r') as f:\n",
    "        f.readline()\n",
    "        lines = f.readlines()\n",
    "        for line in lines:\n",
    "            lines = line.split(',')\n",
    "            node_id = int(lines[0])\n",
    "            rec_coord[node_id] = (float(lines[1]), float(lines[2]))\n",
    "            if len(lines) == 5 and lines[3] != '' and lines[4] != '':\n",
    "                rec_gps[node_id] = float(lines[3]), float(lines[4])\n",
    "    if len(rec_gps) < 3:\n",
    "        raise Exception(\"At least 3 coordinates of longitude and latitude are required\")\n",
    "    # if len(rec_gps) < 10:\n",
    "    #     keys = [key for key in rec_gps.keys()]\n",
    "    # else:\n",
    "    keys = [key for key in rec_gps.keys()]\n",
    "    x_input = [rec_coord[key][0] for key in keys]\n",
    "    y_input = [rec_coord[key][1] for key in keys]\n",
    "    target_x = [rec_gps[key][0] for key in keys]\n",
    "    target_y = [rec_gps[key][1] for key in keys]\n",
    "    args = [x_input, y_input, target_x, target_y]\n",
    "    x0 = np.array([1, 1, 1, 1, 1, 1])\n",
    "    res = minimize(fun(args), x0, method='SLSQP')\n",
    "    trans_rec = dict()\n",
    "    trans_fun = lambda x,y:(res.x[0]*x+res.x[1]*y+res.x[2],res.x[3]*x+res.x[4]*y+res.x[5])\n",
    "    for key in rec_coord.keys():\n",
    "        if key in keys:\n",
    "            trans_rec[key] = rec_gps[key]\n",
    "        else:\n",
    "            trans_rec[key] = trans_fun(rec_coord[key][0], rec_coord[key][1])\n",
    "    with open(r'.\\new_node_coord.csv', 'w+', newline='') as f:\n",
    "        lines = []\n",
    "        f.write('node_id,x_coord,y_coord,x_old,y_old,\\n')\n",
    "        for key in trans_rec.keys():\n",
    "            line = str.format(\n",
    "                \"{0},{1},{2},{3},{4}\\n\".format(key, trans_rec[key][1],trans_rec[key][0],rec_coord[key][0], rec_coord[key][1]))\n",
    "            lines.append(line)\n",
    "        f.writelines(lines)\n",
    "    print('OK')\n",
    "\n",
    "\n",
    "if __name__ == '__main__':\n",
    "    trans()"
   ]
  },
  {
   "cell_type": "code",
   "execution_count": null,
   "id": "354acb03-ffdd-4bc0-aa14-aa240051dffa",
   "metadata": {},
   "outputs": [],
   "source": []
  }
 ],
 "metadata": {
  "kernelspec": {
   "display_name": "Python 3 (ipykernel)",
   "language": "python",
   "name": "python3"
  },
  "language_info": {
   "codemirror_mode": {
    "name": "ipython",
    "version": 3
   },
   "file_extension": ".py",
   "mimetype": "text/x-python",
   "name": "python",
   "nbconvert_exporter": "python",
   "pygments_lexer": "ipython3",
   "version": "3.10.11"
  }
 },
 "nbformat": 4,
 "nbformat_minor": 5
}
